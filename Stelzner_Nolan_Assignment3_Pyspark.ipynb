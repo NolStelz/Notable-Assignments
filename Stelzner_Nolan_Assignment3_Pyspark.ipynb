{
  "nbformat": 4,
  "nbformat_minor": 0,
  "metadata": {
    "kernelspec": {
      "display_name": "Python 3",
      "language": "python",
      "name": "python3"
    },
    "language_info": {
      "codemirror_mode": {
        "name": "ipython",
        "version": 3
      },
      "file_extension": ".py",
      "mimetype": "text/x-python",
      "name": "python",
      "nbconvert_exporter": "python",
      "pygments_lexer": "ipython3",
      "version": "3.7.6"
    },
    "toc": {
      "base_numbering": 1,
      "nav_menu": {},
      "number_sections": true,
      "sideBar": true,
      "skip_h1_title": false,
      "title_cell": "Table of Contents",
      "title_sidebar": "Contents",
      "toc_cell": false,
      "toc_position": {},
      "toc_section_display": true,
      "toc_window_display": false
    },
    "varInspector": {
      "cols": {
        "lenName": 16,
        "lenType": 16,
        "lenVar": 40
      },
      "kernels_config": {
        "python": {
          "delete_cmd_postfix": "",
          "delete_cmd_prefix": "del ",
          "library": "var_list.py",
          "varRefreshCmd": "print(var_dic_list())"
        },
        "r": {
          "delete_cmd_postfix": ") ",
          "delete_cmd_prefix": "rm(",
          "library": "var_list.r",
          "varRefreshCmd": "cat(var_dic_list()) "
        }
      },
      "types_to_exclude": [
        "module",
        "function",
        "builtin_function_or_method",
        "instance",
        "_Feature"
      ],
      "window_display": false
    },
    "colab": {
      "name": "Stelzner_Nolan_Assignment3_Pyspark.ipynb",
      "provenance": [],
      "collapsed_sections": []
    }
  },
  "cells": [
    {
      "cell_type": "markdown",
      "metadata": {
        "id": "XYU6E6IGWjNv"
      },
      "source": [
        "$$\\huge{\\text{Assignment 3 Due 3/4}}$$\n",
        "\n",
        "<font size =4> __NAME: Nolan Stelzner__\n",
        "    \n",
        " <font size=4>Remember to print the file to pdf and name it:  __Lastname1_Lastname2_Assignment3.pdf__\n",
        "     \n",
        "\n",
        "<font color=red>   \n",
        "\n",
        " CHECK THE FILE before you submit it to the folder in Teams  \n",
        "\n"
      ]
    },
    {
      "cell_type": "markdown",
      "metadata": {
        "id": "Xv4a0j-5WjN0"
      },
      "source": [
        "<font size=4>This assignment will be veryclosely related to the __Pyspark Classification Note Book__ we already went over. When looking at the data to check your work you can either use \n",
        "    \n",
        "    df.show() [much faster] or df.topandas().head() [easier to read]\n",
        "\n",
        "\n",
        "    \n",
        "We will use data from  __Citi Bike Trip Histories__.  See link for details \n",
        " \n",
        "https://www.citibikenyc.com/system-data"
      ]
    },
    {
      "cell_type": "code",
      "metadata": {
        "colab": {
          "base_uri": "https://localhost:8080/"
        },
        "id": "AEjNaLnthtYn",
        "outputId": "691d910e-02af-4907-c336-ab0299bee385"
      },
      "source": [
        "!pip install pyspark"
      ],
      "execution_count": null,
      "outputs": [
        {
          "output_type": "stream",
          "text": [
            "Requirement already satisfied: pyspark in /usr/local/lib/python3.7/dist-packages (3.1.1)\n",
            "Requirement already satisfied: py4j==0.10.9 in /usr/local/lib/python3.7/dist-packages (from pyspark) (0.10.9)\n"
          ],
          "name": "stdout"
        }
      ]
    },
    {
      "cell_type": "markdown",
      "metadata": {
        "ExecuteTime": {
          "end_time": "2021-02-21T17:01:27.112169Z",
          "start_time": "2021-02-21T17:01:27.021084Z"
        },
        "id": "a98ShgqCWjN2"
      },
      "source": [
        "<font size=4> Enter the cell below to get started."
      ]
    },
    {
      "cell_type": "code",
      "metadata": {
        "ExecuteTime": {
          "end_time": "2021-02-23T21:51:20.371316Z",
          "start_time": "2021-02-23T21:51:12.610675Z"
        },
        "id": "Tv0zVdCCWjN3"
      },
      "source": [
        "from pyspark.sql import SparkSession\n",
        "from pyspark.conf import SparkConf\n",
        "from pyspark.sql.types import * \n",
        "import pyspark.sql.functions as F\n",
        "from pyspark.sql.functions import col, asc,desc\n",
        "import matplotlib.pyplot as plt\n",
        "import numpy as np\n",
        "import seaborn as sns\n",
        "from pyspark.sql import SQLContext\n",
        "from pyspark.mllib.stat import Statistics\n",
        "import pandas as pd\n",
        "from pyspark.sql.functions import udf\n",
        "from pyspark.ml.feature import OneHotEncoder, StringIndexer, VectorAssembler,StandardScaler\n",
        "from pyspark.ml import Pipeline\n",
        "\n",
        "\n",
        "spark=SparkSession.builder \\\n",
        ".master (\"local[*]\")\\\n",
        ".appName(\"part3\")\\\n",
        ".getOrCreate()"
      ],
      "execution_count": 34,
      "outputs": []
    },
    {
      "cell_type": "code",
      "metadata": {
        "ExecuteTime": {
          "end_time": "2021-02-23T21:51:20.381324Z",
          "start_time": "2021-02-23T21:51:20.371316Z"
        },
        "id": "SGkWt8SUWjN5"
      },
      "source": [
        "sc=spark.sparkContext\n",
        "sqlContext=SQLContext(sc)"
      ],
      "execution_count": 35,
      "outputs": []
    },
    {
      "cell_type": "markdown",
      "metadata": {
        "id": "FeD1pTTtWjN5"
      },
      "source": [
        "Import file 201307-201402-citibike-tripdata.zip with zipfile and extract all"
      ]
    },
    {
      "cell_type": "code",
      "metadata": {
        "colab": {
          "base_uri": "https://localhost:8080/"
        },
        "id": "tzSrsLhihmHo",
        "outputId": "fe541109-6976-409f-a2c0-1bde224c3883"
      },
      "source": [
        "from google.colab import drive\r\n",
        "drive.mount('/content/drive')"
      ],
      "execution_count": null,
      "outputs": [
        {
          "output_type": "stream",
          "text": [
            "Drive already mounted at /content/drive; to attempt to forcibly remount, call drive.mount(\"/content/drive\", force_remount=True).\n"
          ],
          "name": "stdout"
        }
      ]
    },
    {
      "cell_type": "code",
      "metadata": {
        "colab": {
          "base_uri": "https://localhost:8080/",
          "height": 0
        },
        "id": "F6AY_KkOhuVH",
        "outputId": "4f9f4a7e-f2ff-4ede-a020-c2f4b546b5e7"
      },
      "source": [
        "!unzip \"/content/drive/My Drive/Pyspark/201307-201402-citibike-tripdata.zip\"\r\n",
        "!apt-get install openjdk-8-jdk-headless -qq > /dev/null\r\n",
        "!wget -q https://www-us.apache.org/dist/spark/spark-3.0.2/spark-3.0.2-bin-hadoop2.7.tgz\r\n",
        "!tar xf spark-3.0.2-bin-hadoop2.7.tgz\r\n",
        "!pip install -q findspark\r\n",
        "import os\r\n",
        "os.environ[\"JAVA_HOME\"] = \"/usr/lib/jvm/java-8-openjdk-amd64\"\r\n",
        "os.environ[\"SPARK_HOME\"] = \"/content/spark-3.0.2-bin-hadoop2.7\"\r\n",
        "import findspark\r\n",
        "findspark.init()"
      ],
      "execution_count": 36,
      "outputs": [
        {
          "output_type": "stream",
          "text": [
            "Archive:  /content/drive/My Drive/Pyspark/201307-201402-citibike-tripdata.zip\n",
            "replace 2014-02 - Citi Bike trip data.csv? [y]es, [n]o, [A]ll, [N]one, [r]ename: y\n",
            "  inflating: 2014-02 - Citi Bike trip data.csv  \n",
            "replace 2014-01 - Citi Bike trip data.csv? [y]es, [n]o, [A]ll, [N]one, [r]ename: y\n",
            "  inflating: 2014-01 - Citi Bike trip data.csv  \n",
            "replace 2013-12 - Citi Bike trip data.csv? [y]es, [n]o, [A]ll, [N]one, [r]ename: y\n",
            "  inflating: 2013-12 - Citi Bike trip data.csv  \n",
            "replace 2013-11 - Citi Bike trip data.csv? [y]es, [n]o, [A]ll, [N]one, [r]ename: y\n",
            "  inflating: 2013-11 - Citi Bike trip data.csv  \n",
            "replace 2013-10 - Citi Bike trip data.csv? [y]es, [n]o, [A]ll, [N]one, [r]ename: y\n",
            "  inflating: 2013-10 - Citi Bike trip data.csv  \n",
            "replace 2013-09 - Citi Bike trip data.csv? [y]es, [n]o, [A]ll, [N]one, [r]ename: y\n",
            "  inflating: 2013-09 - Citi Bike trip data.csv  \n",
            "replace 2013-08 - Citi Bike trip data.csv? [y]es, [n]o, [A]ll, [N]one, [r]ename: y\n",
            "  inflating: 2013-08 - Citi Bike trip data.csv  \n",
            "replace 2013-07 - Citi Bike trip data.csv? [y]es, [n]o, [A]ll, [N]one, [r]ename: y\n",
            "  inflating: 2013-07 - Citi Bike trip data.csv  \n"
          ],
          "name": "stdout"
        }
      ]
    },
    {
      "cell_type": "markdown",
      "metadata": {
        "id": "AuiThfPqWjN6"
      },
      "source": [
        "## <font color =blue> Read File in using spark and name it df. Take a look at it using df.toPandas().head()"
      ]
    },
    {
      "cell_type": "code",
      "metadata": {
        "ExecuteTime": {
          "end_time": "2021-02-23T21:51:32.800968Z",
          "start_time": "2021-02-23T21:51:27.606582Z"
        },
        "id": "BwRHf9RjWjN6",
        "colab": {
          "base_uri": "https://localhost:8080/",
          "height": 0
        },
        "outputId": "a2cef5a6-0ff6-4663-9a4a-e9984f1de13a"
      },
      "source": [
        "df=spark.read \\\r\n",
        " .option(\"header\",\"True\")\\\r\n",
        " .option(\"inferSchema\",\"True\")\\\r\n",
        " .option(\"sep\",\",\")\\\r\n",
        " .csv(\"2013-09 - Citi Bike trip data.csv\")\r\n",
        "print(\"There are\",df.count(),\"rows\",len(df.columns),\r\n",
        "      \"columns\" ,\"in the data.\") "
      ],
      "execution_count": 37,
      "outputs": [
        {
          "output_type": "stream",
          "text": [
            "There are 1034359 rows 15 columns in the data.\n"
          ],
          "name": "stdout"
        }
      ]
    },
    {
      "cell_type": "code",
      "metadata": {
        "ExecuteTime": {
          "end_time": "2021-02-23T22:04:38.289685Z",
          "start_time": "2021-02-23T22:04:18.479697Z"
        },
        "id": "cH24JJE8WjN6",
        "colab": {
          "base_uri": "https://localhost:8080/",
          "height": 312
        },
        "outputId": "b315269d-e896-4381-9c41-cfd40e9632bf"
      },
      "source": [
        "df.toPandas().head()"
      ],
      "execution_count": null,
      "outputs": [
        {
          "output_type": "execute_result",
          "data": {
            "text/html": [
              "<div>\n",
              "<style scoped>\n",
              "    .dataframe tbody tr th:only-of-type {\n",
              "        vertical-align: middle;\n",
              "    }\n",
              "\n",
              "    .dataframe tbody tr th {\n",
              "        vertical-align: top;\n",
              "    }\n",
              "\n",
              "    .dataframe thead th {\n",
              "        text-align: right;\n",
              "    }\n",
              "</style>\n",
              "<table border=\"1\" class=\"dataframe\">\n",
              "  <thead>\n",
              "    <tr style=\"text-align: right;\">\n",
              "      <th></th>\n",
              "      <th>tripduration</th>\n",
              "      <th>starttime</th>\n",
              "      <th>stoptime</th>\n",
              "      <th>start station id</th>\n",
              "      <th>start station name</th>\n",
              "      <th>start station latitude</th>\n",
              "      <th>start station longitude</th>\n",
              "      <th>end station id</th>\n",
              "      <th>end station name</th>\n",
              "      <th>end station latitude</th>\n",
              "      <th>end station longitude</th>\n",
              "      <th>bikeid</th>\n",
              "      <th>usertype</th>\n",
              "      <th>birth year</th>\n",
              "      <th>gender</th>\n",
              "    </tr>\n",
              "  </thead>\n",
              "  <tbody>\n",
              "    <tr>\n",
              "      <th>0</th>\n",
              "      <td>1010</td>\n",
              "      <td>2013-09-01 00:00:02</td>\n",
              "      <td>2013-09-01 00:16:52</td>\n",
              "      <td>254</td>\n",
              "      <td>W 11 St &amp; 6 Ave</td>\n",
              "      <td>40.735324</td>\n",
              "      <td>-73.998004</td>\n",
              "      <td>147</td>\n",
              "      <td>Greenwich St &amp; Warren St</td>\n",
              "      <td>40.715422</td>\n",
              "      <td>-74.011220</td>\n",
              "      <td>15014</td>\n",
              "      <td>Subscriber</td>\n",
              "      <td>1974</td>\n",
              "      <td>1</td>\n",
              "    </tr>\n",
              "    <tr>\n",
              "      <th>1</th>\n",
              "      <td>1443</td>\n",
              "      <td>2013-09-01 00:00:09</td>\n",
              "      <td>2013-09-01 00:24:12</td>\n",
              "      <td>151</td>\n",
              "      <td>Cleveland Pl &amp; Spring St</td>\n",
              "      <td>40.721816</td>\n",
              "      <td>-73.997203</td>\n",
              "      <td>497</td>\n",
              "      <td>E 17 St &amp; Broadway</td>\n",
              "      <td>40.737050</td>\n",
              "      <td>-73.990093</td>\n",
              "      <td>19393</td>\n",
              "      <td>Customer</td>\n",
              "      <td>\\N</td>\n",
              "      <td>0</td>\n",
              "    </tr>\n",
              "    <tr>\n",
              "      <th>2</th>\n",
              "      <td>1387</td>\n",
              "      <td>2013-09-01 00:00:16</td>\n",
              "      <td>2013-09-01 00:23:23</td>\n",
              "      <td>352</td>\n",
              "      <td>W 56 St &amp; 6 Ave</td>\n",
              "      <td>40.763406</td>\n",
              "      <td>-73.977225</td>\n",
              "      <td>405</td>\n",
              "      <td>Washington St &amp; Gansevoort St</td>\n",
              "      <td>40.739323</td>\n",
              "      <td>-74.008119</td>\n",
              "      <td>16160</td>\n",
              "      <td>Subscriber</td>\n",
              "      <td>1992</td>\n",
              "      <td>1</td>\n",
              "    </tr>\n",
              "    <tr>\n",
              "      <th>3</th>\n",
              "      <td>405</td>\n",
              "      <td>2013-09-01 00:00:18</td>\n",
              "      <td>2013-09-01 00:07:03</td>\n",
              "      <td>490</td>\n",
              "      <td>8 Ave &amp; W 33 St</td>\n",
              "      <td>40.751551</td>\n",
              "      <td>-73.993934</td>\n",
              "      <td>459</td>\n",
              "      <td>W 20 St &amp; 11 Ave</td>\n",
              "      <td>40.746745</td>\n",
              "      <td>-74.007756</td>\n",
              "      <td>14997</td>\n",
              "      <td>Subscriber</td>\n",
              "      <td>1973</td>\n",
              "      <td>1</td>\n",
              "    </tr>\n",
              "    <tr>\n",
              "      <th>4</th>\n",
              "      <td>270</td>\n",
              "      <td>2013-09-01 00:00:20</td>\n",
              "      <td>2013-09-01 00:04:50</td>\n",
              "      <td>236</td>\n",
              "      <td>St Marks Pl &amp; 2 Ave</td>\n",
              "      <td>40.728419</td>\n",
              "      <td>-73.987140</td>\n",
              "      <td>393</td>\n",
              "      <td>E 5 St &amp; Avenue C</td>\n",
              "      <td>40.722992</td>\n",
              "      <td>-73.979955</td>\n",
              "      <td>19609</td>\n",
              "      <td>Subscriber</td>\n",
              "      <td>1984</td>\n",
              "      <td>1</td>\n",
              "    </tr>\n",
              "  </tbody>\n",
              "</table>\n",
              "</div>"
            ],
            "text/plain": [
              "   tripduration            starttime  ... birth year  gender\n",
              "0          1010  2013-09-01 00:00:02  ...       1974       1\n",
              "1          1443  2013-09-01 00:00:09  ...         \\N       0\n",
              "2          1387  2013-09-01 00:00:16  ...       1992       1\n",
              "3           405  2013-09-01 00:00:18  ...       1973       1\n",
              "4           270  2013-09-01 00:00:20  ...       1984       1\n",
              "\n",
              "[5 rows x 15 columns]"
            ]
          },
          "metadata": {
            "tags": []
          },
          "execution_count": 5
        }
      ]
    },
    {
      "cell_type": "markdown",
      "metadata": {
        "id": "JpisAGtrWjN7"
      },
      "source": [
        "<font size=4> I'm going to change some of the variable types for you "
      ]
    },
    {
      "cell_type": "code",
      "metadata": {
        "ExecuteTime": {
          "end_time": "2021-02-23T21:51:32.924896Z",
          "start_time": "2021-02-23T21:51:32.809833Z"
        },
        "id": "MmNzx6ywWjN7"
      },
      "source": [
        "from pyspark.sql.types import IntegerType\n",
        "df =df.withColumn(\"birth year\", df[\"birth year\"].cast(IntegerType()))\n",
        "df =df.withColumn(\"tripduration\", df[\"tripduration\"].cast(IntegerType()))\n",
        "df =df.withColumn(\"bikeid\", df[\"bikeid\"].cast(IntegerType()))\n",
        "df =df.withColumn(\"start station id\", df[\"start station id\"].cast(IntegerType()))\n",
        "df =df.withColumn(\"end station id\", df[\"end station id\"].cast(IntegerType()))\n",
        "df =df.withColumn(\"start station latitude\", df[\"start station latitude\"].cast(DoubleType()))\n",
        "df =df.withColumn(\"start station longitude\", df[\"start station longitude\"].cast(DoubleType()))\n",
        "df =df.withColumn(\"end station latitude\", df[\"end station latitude\"].cast(DoubleType()))\n",
        "df =df.withColumn(\"end station longitude\", df[\"end station longitude\"].cast(DoubleType()))\n"
      ],
      "execution_count": 38,
      "outputs": []
    },
    {
      "cell_type": "markdown",
      "metadata": {
        "id": "nzP3RekQWjN7"
      },
      "source": [
        "## <font color=blue> Print the Schema"
      ]
    },
    {
      "cell_type": "code",
      "metadata": {
        "ExecuteTime": {
          "end_time": "2021-02-23T21:51:32.932866Z",
          "start_time": "2021-02-23T21:51:32.926895Z"
        },
        "id": "BadBLY-eWjN7",
        "colab": {
          "base_uri": "https://localhost:8080/"
        },
        "outputId": "74336aa0-6853-408b-f01f-b93d37497030"
      },
      "source": [
        "df.printSchema()"
      ],
      "execution_count": null,
      "outputs": [
        {
          "output_type": "stream",
          "text": [
            "root\n",
            " |-- tripduration: integer (nullable = true)\n",
            " |-- starttime: string (nullable = true)\n",
            " |-- stoptime: string (nullable = true)\n",
            " |-- start station id: integer (nullable = true)\n",
            " |-- start station name: string (nullable = true)\n",
            " |-- start station latitude: double (nullable = true)\n",
            " |-- start station longitude: double (nullable = true)\n",
            " |-- end station id: integer (nullable = true)\n",
            " |-- end station name: string (nullable = true)\n",
            " |-- end station latitude: double (nullable = true)\n",
            " |-- end station longitude: double (nullable = true)\n",
            " |-- bikeid: integer (nullable = true)\n",
            " |-- usertype: string (nullable = true)\n",
            " |-- birth year: integer (nullable = true)\n",
            " |-- gender: integer (nullable = true)\n",
            "\n"
          ],
          "name": "stdout"
        }
      ]
    },
    {
      "cell_type": "markdown",
      "metadata": {
        "id": "ueZx4tUaWjN7"
      },
      "source": [
        "## <font color=blue> Use the PySpark attributes .na.drop and .filter to drop nans and get red of 0's in gender ( unknown gender) "
      ]
    },
    {
      "cell_type": "code",
      "metadata": {
        "colab": {
          "base_uri": "https://localhost:8080/",
          "height": 0
        },
        "id": "FfHPTbV7qHJE",
        "outputId": "c064e38c-bf7a-4eb1-b162-e33f38c1a0bd"
      },
      "source": [
        "print(\"There are\",df.count(),\"rows\",len(df.columns),\r\n",
        "      \"columns\" ,\"in the data.\") "
      ],
      "execution_count": 39,
      "outputs": [
        {
          "output_type": "stream",
          "text": [
            "There are 1034359 rows 15 columns in the data.\n"
          ],
          "name": "stdout"
        }
      ]
    },
    {
      "cell_type": "code",
      "metadata": {
        "ExecuteTime": {
          "end_time": "2021-02-23T21:51:33.540904Z",
          "start_time": "2021-02-23T21:51:32.935864Z"
        },
        "id": "fKYyRHu9WjN8"
      },
      "source": [
        "#Dropping all NaN's in data set\r\n",
        "df = df.na.drop()"
      ],
      "execution_count": 40,
      "outputs": []
    },
    {
      "cell_type": "code",
      "metadata": {
        "colab": {
          "base_uri": "https://localhost:8080/",
          "height": 0
        },
        "id": "7-G5knW_qX0n",
        "outputId": "90f5de0c-0290-44bd-918b-344e8145236b"
      },
      "source": [
        "print(\"There are\",df.count(),\"rows\",len(df.columns),\r\n",
        "      \"columns\" ,\"in the data.\") "
      ],
      "execution_count": 41,
      "outputs": [
        {
          "output_type": "stream",
          "text": [
            "There are 889190 rows 15 columns in the data.\n"
          ],
          "name": "stdout"
        }
      ]
    },
    {
      "cell_type": "code",
      "metadata": {
        "colab": {
          "base_uri": "https://localhost:8080/",
          "height": 0
        },
        "id": "WYThCzQOqjT4",
        "outputId": "bc927b51-249d-4e06-961e-f4dc83233142"
      },
      "source": [
        "print(\"There were\",1034359-889190, \"NaN's removed from the data set\")"
      ],
      "execution_count": 42,
      "outputs": [
        {
          "output_type": "stream",
          "text": [
            "There were 145169 NaN's removed from the data set\n"
          ],
          "name": "stdout"
        }
      ]
    },
    {
      "cell_type": "code",
      "metadata": {
        "id": "WU0_ETWxpzHw"
      },
      "source": [
        "#Removing all 0's from gender column\r\n",
        "df = df.filter(\"gender != 0\").dropna()"
      ],
      "execution_count": 43,
      "outputs": []
    },
    {
      "cell_type": "code",
      "metadata": {
        "colab": {
          "base_uri": "https://localhost:8080/",
          "height": 312
        },
        "id": "NXluPyrP2dKd",
        "outputId": "8057ff7e-6536-4ee7-de69-2418ac3d443a"
      },
      "source": [
        "df.toPandas().head()"
      ],
      "execution_count": null,
      "outputs": [
        {
          "output_type": "execute_result",
          "data": {
            "text/html": [
              "<div>\n",
              "<style scoped>\n",
              "    .dataframe tbody tr th:only-of-type {\n",
              "        vertical-align: middle;\n",
              "    }\n",
              "\n",
              "    .dataframe tbody tr th {\n",
              "        vertical-align: top;\n",
              "    }\n",
              "\n",
              "    .dataframe thead th {\n",
              "        text-align: right;\n",
              "    }\n",
              "</style>\n",
              "<table border=\"1\" class=\"dataframe\">\n",
              "  <thead>\n",
              "    <tr style=\"text-align: right;\">\n",
              "      <th></th>\n",
              "      <th>tripduration</th>\n",
              "      <th>starttime</th>\n",
              "      <th>stoptime</th>\n",
              "      <th>start station id</th>\n",
              "      <th>start station name</th>\n",
              "      <th>start station latitude</th>\n",
              "      <th>start station longitude</th>\n",
              "      <th>end station id</th>\n",
              "      <th>end station name</th>\n",
              "      <th>end station latitude</th>\n",
              "      <th>end station longitude</th>\n",
              "      <th>bikeid</th>\n",
              "      <th>usertype</th>\n",
              "      <th>birth year</th>\n",
              "      <th>gender</th>\n",
              "    </tr>\n",
              "  </thead>\n",
              "  <tbody>\n",
              "    <tr>\n",
              "      <th>0</th>\n",
              "      <td>1010</td>\n",
              "      <td>2013-09-01 00:00:02</td>\n",
              "      <td>2013-09-01 00:16:52</td>\n",
              "      <td>254</td>\n",
              "      <td>W 11 St &amp; 6 Ave</td>\n",
              "      <td>40.735324</td>\n",
              "      <td>-73.998004</td>\n",
              "      <td>147</td>\n",
              "      <td>Greenwich St &amp; Warren St</td>\n",
              "      <td>40.715422</td>\n",
              "      <td>-74.011220</td>\n",
              "      <td>15014</td>\n",
              "      <td>Subscriber</td>\n",
              "      <td>1974</td>\n",
              "      <td>1</td>\n",
              "    </tr>\n",
              "    <tr>\n",
              "      <th>1</th>\n",
              "      <td>1387</td>\n",
              "      <td>2013-09-01 00:00:16</td>\n",
              "      <td>2013-09-01 00:23:23</td>\n",
              "      <td>352</td>\n",
              "      <td>W 56 St &amp; 6 Ave</td>\n",
              "      <td>40.763406</td>\n",
              "      <td>-73.977225</td>\n",
              "      <td>405</td>\n",
              "      <td>Washington St &amp; Gansevoort St</td>\n",
              "      <td>40.739323</td>\n",
              "      <td>-74.008119</td>\n",
              "      <td>16160</td>\n",
              "      <td>Subscriber</td>\n",
              "      <td>1992</td>\n",
              "      <td>1</td>\n",
              "    </tr>\n",
              "    <tr>\n",
              "      <th>2</th>\n",
              "      <td>405</td>\n",
              "      <td>2013-09-01 00:00:18</td>\n",
              "      <td>2013-09-01 00:07:03</td>\n",
              "      <td>490</td>\n",
              "      <td>8 Ave &amp; W 33 St</td>\n",
              "      <td>40.751551</td>\n",
              "      <td>-73.993934</td>\n",
              "      <td>459</td>\n",
              "      <td>W 20 St &amp; 11 Ave</td>\n",
              "      <td>40.746745</td>\n",
              "      <td>-74.007756</td>\n",
              "      <td>14997</td>\n",
              "      <td>Subscriber</td>\n",
              "      <td>1973</td>\n",
              "      <td>1</td>\n",
              "    </tr>\n",
              "    <tr>\n",
              "      <th>3</th>\n",
              "      <td>270</td>\n",
              "      <td>2013-09-01 00:00:20</td>\n",
              "      <td>2013-09-01 00:04:50</td>\n",
              "      <td>236</td>\n",
              "      <td>St Marks Pl &amp; 2 Ave</td>\n",
              "      <td>40.728419</td>\n",
              "      <td>-73.987140</td>\n",
              "      <td>393</td>\n",
              "      <td>E 5 St &amp; Avenue C</td>\n",
              "      <td>40.722992</td>\n",
              "      <td>-73.979955</td>\n",
              "      <td>19609</td>\n",
              "      <td>Subscriber</td>\n",
              "      <td>1984</td>\n",
              "      <td>1</td>\n",
              "    </tr>\n",
              "    <tr>\n",
              "      <th>4</th>\n",
              "      <td>400</td>\n",
              "      <td>2013-09-01 00:00:35</td>\n",
              "      <td>2013-09-01 00:07:15</td>\n",
              "      <td>490</td>\n",
              "      <td>8 Ave &amp; W 33 St</td>\n",
              "      <td>40.751551</td>\n",
              "      <td>-73.993934</td>\n",
              "      <td>453</td>\n",
              "      <td>W 22 St &amp; 8 Ave</td>\n",
              "      <td>40.744751</td>\n",
              "      <td>-73.999154</td>\n",
              "      <td>17523</td>\n",
              "      <td>Subscriber</td>\n",
              "      <td>1978</td>\n",
              "      <td>1</td>\n",
              "    </tr>\n",
              "  </tbody>\n",
              "</table>\n",
              "</div>"
            ],
            "text/plain": [
              "   tripduration            starttime  ... birth year  gender\n",
              "0          1010  2013-09-01 00:00:02  ...       1974       1\n",
              "1          1387  2013-09-01 00:00:16  ...       1992       1\n",
              "2           405  2013-09-01 00:00:18  ...       1973       1\n",
              "3           270  2013-09-01 00:00:20  ...       1984       1\n",
              "4           400  2013-09-01 00:00:35  ...       1978       1\n",
              "\n",
              "[5 rows x 15 columns]"
            ]
          },
          "metadata": {
            "tags": []
          },
          "execution_count": 13
        }
      ]
    },
    {
      "cell_type": "code",
      "metadata": {
        "colab": {
          "base_uri": "https://localhost:8080/"
        },
        "id": "mwzfpkzs3hZl",
        "outputId": "ee09541e-2d72-4e45-b2ee-fc490193c8e2"
      },
      "source": [
        "df.toPandas().info()"
      ],
      "execution_count": null,
      "outputs": [
        {
          "output_type": "stream",
          "text": [
            "<class 'pandas.core.frame.DataFrame'>\n",
            "RangeIndex: 889130 entries, 0 to 889129\n",
            "Data columns (total 15 columns):\n",
            " #   Column                   Non-Null Count   Dtype  \n",
            "---  ------                   --------------   -----  \n",
            " 0   tripduration             889130 non-null  int32  \n",
            " 1   starttime                889130 non-null  object \n",
            " 2   stoptime                 889130 non-null  object \n",
            " 3   start station id         889130 non-null  int32  \n",
            " 4   start station name       889130 non-null  object \n",
            " 5   start station latitude   889130 non-null  float64\n",
            " 6   start station longitude  889130 non-null  float64\n",
            " 7   end station id           889130 non-null  int32  \n",
            " 8   end station name         889130 non-null  object \n",
            " 9   end station latitude     889130 non-null  float64\n",
            " 10  end station longitude    889130 non-null  float64\n",
            " 11  bikeid                   889130 non-null  int32  \n",
            " 12  usertype                 889130 non-null  object \n",
            " 13  birth year               889130 non-null  int32  \n",
            " 14  gender                   889130 non-null  int32  \n",
            "dtypes: float64(4), int32(6), object(5)\n",
            "memory usage: 81.4+ MB\n"
          ],
          "name": "stdout"
        }
      ]
    },
    {
      "cell_type": "markdown",
      "metadata": {
        "id": "i-xRoyIrWjN8"
      },
      "source": [
        "## <font color=blue> Let's do a feature creation for the distance between stations using geopy  udf and the lat long coordinates from the data.  Call the new feature station_distance. \n",
        "    \n",
        "<font size=4>The  __Create a new column - Age Groups section__ from the notebook is an example of using udf.\n",
        " \n",
        "Let's start by showing you how geodesic works. you probably need to install geopy first. "
      ]
    },
    {
      "cell_type": "code",
      "metadata": {
        "ExecuteTime": {
          "end_time": "2021-02-23T21:51:34.071342Z",
          "start_time": "2021-02-23T21:51:33.546930Z"
        },
        "id": "nPSfKCEoWjN8",
        "colab": {
          "base_uri": "https://localhost:8080/",
          "height": 0
        },
        "outputId": "2465b95b-e244-43fd-bedd-31083f7c0383"
      },
      "source": [
        "#!pip install geopy #only need this once\n",
        "from geopy.distance import geodesic\n",
        "newport_ri = (41.49008, -71.312796)\n",
        "cleveland_oh = (41.499498, -81.695391)\n",
        "geodesic(newport_ri, cleveland_oh).miles\n"
      ],
      "execution_count": 44,
      "outputs": [
        {
          "output_type": "execute_result",
          "data": {
            "text/plain": [
              "538.3904453677203"
            ]
          },
          "metadata": {
            "tags": []
          },
          "execution_count": 44
        }
      ]
    },
    {
      "cell_type": "code",
      "metadata": {
        "id": "IzxpSdsj8jgT"
      },
      "source": [
        "from pyspark.sql.functions import lit, struct\r\n",
        "def miles_udf(x, y):\r\n",
        "    return geodesic(x, y).miles\r\n",
        "miles = udf(miles_udf)\r\n",
        "start = struct(df['start station latitude'],df['start station longitude'])\r\n",
        "stop = struct(df['end station latitude'],df['end station longitude'])\r\n",
        "df=df.withColumn(\"station_distance\", miles(start,stop))"
      ],
      "execution_count": 45,
      "outputs": []
    },
    {
      "cell_type": "code",
      "metadata": {
        "id": "g4-WoF6ztNXx"
      },
      "source": [
        "#def udf_multiple(Miles):\r\n",
        "#      if (Miles < 100):\r\n",
        "#        return 'Under 100 Miles'\r\n",
        "#      elif (Miles >= 100 and age <= 250):\r\n",
        "#        return 'Between 100 and 250 Miles'\r\n",
        "#      elif (Miles > 250 and age < 500):\r\n",
        "#        return 'Between 251 and 499 Miles'\r\n",
        "#      elif (Miles >= 500):\r\n",
        "#        return 'Over 500 Miles'\r\n",
        "#      else: return 'N/A'\r\n",
        "\r\n",
        "#latlon_udf = udf(udf_multiple)\r\n",
        "#df=df.withColumn(\"station_distance\", latlon_udf('miles'))"
      ],
      "execution_count": null,
      "outputs": []
    },
    {
      "cell_type": "markdown",
      "metadata": {
        "id": "RDUGW129WjN9"
      },
      "source": [
        "## <font color=blue>Now change this new feature into a DoubleType variable."
      ]
    },
    {
      "cell_type": "code",
      "metadata": {
        "ExecuteTime": {
          "end_time": "2021-02-23T21:52:28.208721Z",
          "start_time": "2021-02-23T21:51:34.137466Z"
        },
        "id": "4eE8PKiAWjN9"
      },
      "source": [
        "df =df.withColumn(\"station_distance\", df[\"station_distance\"].cast(DoubleType()))"
      ],
      "execution_count": 46,
      "outputs": []
    },
    {
      "cell_type": "markdown",
      "metadata": {
        "id": "7hy0n3pTWjN-"
      },
      "source": [
        "## <font color =blue>Change the gender data type to Integer so we can do some  correlation."
      ]
    },
    {
      "cell_type": "code",
      "metadata": {
        "ExecuteTime": {
          "end_time": "2021-02-23T21:52:28.249693Z",
          "start_time": "2021-02-23T21:52:28.210809Z"
        },
        "id": "OgJdDhFZWjN-"
      },
      "source": [
        "df =df.withColumn(\"gender\", df[\"gender\"].cast(IntegerType()))"
      ],
      "execution_count": 47,
      "outputs": []
    },
    {
      "cell_type": "markdown",
      "metadata": {
        "ExecuteTime": {
          "end_time": "2021-02-23T20:44:48.811812Z",
          "start_time": "2021-02-23T20:44:48.808795Z"
        },
        "id": "LnISQ6vlWjN-"
      },
      "source": [
        "## <font color =blue>Perform a correlation using df.toPandas().corr()"
      ]
    },
    {
      "cell_type": "code",
      "metadata": {
        "ExecuteTime": {
          "end_time": "2021-02-23T21:52:50.983670Z",
          "start_time": "2021-02-23T21:52:28.251770Z"
        },
        "id": "i4m52mSEWjN-",
        "colab": {
          "base_uri": "https://localhost:8080/",
          "height": 340
        },
        "outputId": "8abe22c9-a566-4b9f-8ce8-a5dcec6883a6"
      },
      "source": [
        "df.toPandas().corr()"
      ],
      "execution_count": null,
      "outputs": [
        {
          "output_type": "execute_result",
          "data": {
            "text/html": [
              "<div>\n",
              "<style scoped>\n",
              "    .dataframe tbody tr th:only-of-type {\n",
              "        vertical-align: middle;\n",
              "    }\n",
              "\n",
              "    .dataframe tbody tr th {\n",
              "        vertical-align: top;\n",
              "    }\n",
              "\n",
              "    .dataframe thead th {\n",
              "        text-align: right;\n",
              "    }\n",
              "</style>\n",
              "<table border=\"1\" class=\"dataframe\">\n",
              "  <thead>\n",
              "    <tr style=\"text-align: right;\">\n",
              "      <th></th>\n",
              "      <th>tripduration</th>\n",
              "      <th>start station id</th>\n",
              "      <th>start station latitude</th>\n",
              "      <th>start station longitude</th>\n",
              "      <th>end station id</th>\n",
              "      <th>end station latitude</th>\n",
              "      <th>end station longitude</th>\n",
              "      <th>bikeid</th>\n",
              "      <th>birth year</th>\n",
              "      <th>gender</th>\n",
              "    </tr>\n",
              "  </thead>\n",
              "  <tbody>\n",
              "    <tr>\n",
              "      <th>tripduration</th>\n",
              "      <td>1.000000</td>\n",
              "      <td>0.023017</td>\n",
              "      <td>-0.010405</td>\n",
              "      <td>0.003252</td>\n",
              "      <td>0.017944</td>\n",
              "      <td>-0.017316</td>\n",
              "      <td>0.007305</td>\n",
              "      <td>-0.000238</td>\n",
              "      <td>-0.020667</td>\n",
              "      <td>0.044029</td>\n",
              "    </tr>\n",
              "    <tr>\n",
              "      <th>start station id</th>\n",
              "      <td>0.023017</td>\n",
              "      <td>1.000000</td>\n",
              "      <td>0.102007</td>\n",
              "      <td>0.082603</td>\n",
              "      <td>0.040167</td>\n",
              "      <td>0.055533</td>\n",
              "      <td>0.016807</td>\n",
              "      <td>-0.000378</td>\n",
              "      <td>-0.003077</td>\n",
              "      <td>-0.003337</td>\n",
              "    </tr>\n",
              "    <tr>\n",
              "      <th>start station latitude</th>\n",
              "      <td>-0.010405</td>\n",
              "      <td>0.102007</td>\n",
              "      <td>1.000000</td>\n",
              "      <td>0.203310</td>\n",
              "      <td>0.046072</td>\n",
              "      <td>0.576201</td>\n",
              "      <td>0.067381</td>\n",
              "      <td>-0.001079</td>\n",
              "      <td>-0.047789</td>\n",
              "      <td>-0.064669</td>\n",
              "    </tr>\n",
              "    <tr>\n",
              "      <th>start station longitude</th>\n",
              "      <td>0.003252</td>\n",
              "      <td>0.082603</td>\n",
              "      <td>0.203310</td>\n",
              "      <td>1.000000</td>\n",
              "      <td>0.017083</td>\n",
              "      <td>0.079429</td>\n",
              "      <td>0.403148</td>\n",
              "      <td>-0.003520</td>\n",
              "      <td>0.029406</td>\n",
              "      <td>-0.017939</td>\n",
              "    </tr>\n",
              "    <tr>\n",
              "      <th>end station id</th>\n",
              "      <td>0.017944</td>\n",
              "      <td>0.040167</td>\n",
              "      <td>0.046072</td>\n",
              "      <td>0.017083</td>\n",
              "      <td>1.000000</td>\n",
              "      <td>0.095520</td>\n",
              "      <td>0.080092</td>\n",
              "      <td>0.000135</td>\n",
              "      <td>-0.006898</td>\n",
              "      <td>-0.003542</td>\n",
              "    </tr>\n",
              "    <tr>\n",
              "      <th>end station latitude</th>\n",
              "      <td>-0.017316</td>\n",
              "      <td>0.055533</td>\n",
              "      <td>0.576201</td>\n",
              "      <td>0.079429</td>\n",
              "      <td>0.095520</td>\n",
              "      <td>1.000000</td>\n",
              "      <td>0.186946</td>\n",
              "      <td>0.000315</td>\n",
              "      <td>-0.053723</td>\n",
              "      <td>-0.062387</td>\n",
              "    </tr>\n",
              "    <tr>\n",
              "      <th>end station longitude</th>\n",
              "      <td>0.007305</td>\n",
              "      <td>0.016807</td>\n",
              "      <td>0.067381</td>\n",
              "      <td>0.403148</td>\n",
              "      <td>0.080092</td>\n",
              "      <td>0.186946</td>\n",
              "      <td>1.000000</td>\n",
              "      <td>-0.003105</td>\n",
              "      <td>0.029634</td>\n",
              "      <td>-0.019149</td>\n",
              "    </tr>\n",
              "    <tr>\n",
              "      <th>bikeid</th>\n",
              "      <td>-0.000238</td>\n",
              "      <td>-0.000378</td>\n",
              "      <td>-0.001079</td>\n",
              "      <td>-0.003520</td>\n",
              "      <td>0.000135</td>\n",
              "      <td>0.000315</td>\n",
              "      <td>-0.003105</td>\n",
              "      <td>1.000000</td>\n",
              "      <td>-0.001147</td>\n",
              "      <td>-0.000415</td>\n",
              "    </tr>\n",
              "    <tr>\n",
              "      <th>birth year</th>\n",
              "      <td>-0.020667</td>\n",
              "      <td>-0.003077</td>\n",
              "      <td>-0.047789</td>\n",
              "      <td>0.029406</td>\n",
              "      <td>-0.006898</td>\n",
              "      <td>-0.053723</td>\n",
              "      <td>0.029634</td>\n",
              "      <td>-0.001147</td>\n",
              "      <td>1.000000</td>\n",
              "      <td>0.064965</td>\n",
              "    </tr>\n",
              "    <tr>\n",
              "      <th>gender</th>\n",
              "      <td>0.044029</td>\n",
              "      <td>-0.003337</td>\n",
              "      <td>-0.064669</td>\n",
              "      <td>-0.017939</td>\n",
              "      <td>-0.003542</td>\n",
              "      <td>-0.062387</td>\n",
              "      <td>-0.019149</td>\n",
              "      <td>-0.000415</td>\n",
              "      <td>0.064965</td>\n",
              "      <td>1.000000</td>\n",
              "    </tr>\n",
              "  </tbody>\n",
              "</table>\n",
              "</div>"
            ],
            "text/plain": [
              "                         tripduration  start station id  ...  birth year    gender\n",
              "tripduration                 1.000000          0.023017  ...   -0.020667  0.044029\n",
              "start station id             0.023017          1.000000  ...   -0.003077 -0.003337\n",
              "start station latitude      -0.010405          0.102007  ...   -0.047789 -0.064669\n",
              "start station longitude      0.003252          0.082603  ...    0.029406 -0.017939\n",
              "end station id               0.017944          0.040167  ...   -0.006898 -0.003542\n",
              "end station latitude        -0.017316          0.055533  ...   -0.053723 -0.062387\n",
              "end station longitude        0.007305          0.016807  ...    0.029634 -0.019149\n",
              "bikeid                      -0.000238         -0.000378  ...   -0.001147 -0.000415\n",
              "birth year                  -0.020667         -0.003077  ...    1.000000  0.064965\n",
              "gender                       0.044029         -0.003337  ...    0.064965  1.000000\n",
              "\n",
              "[10 rows x 10 columns]"
            ]
          },
          "metadata": {
            "tags": []
          },
          "execution_count": 47
        }
      ]
    },
    {
      "cell_type": "markdown",
      "metadata": {
        "id": "j_xHXuKsWjN-"
      },
      "source": [
        "<font size=6 color=burntorange> __We are going to try and build a logistic model to try and pick gender from this data.  None of the correlations above are great but le't see how we do.__  "
      ]
    },
    {
      "cell_type": "markdown",
      "metadata": {
        "id": "XAMWcDGjWjN-"
      },
      "source": [
        "## <font color=blue>  Create a pipeline  to vectorize and standard scale the features and set gender to be the label.  Let's choose the following features for our model.\n",
        "    \n",
        "    \"tripduration\",\"start station latitude\",\n",
        "                         \"start station longitude\",\"end station latitude\",\"end station longitude\",\n",
        "                         \"birth year\",\"station_distance\""
      ]
    },
    {
      "cell_type": "code",
      "metadata": {
        "id": "5j1bn0AQLy2L"
      },
      "source": [
        "assembler = VectorAssembler()\\\r\n",
        "         .setInputCols ([\"tripduration\",\"start station latitude\",\r\n",
        "                     \"start station longitude\",\"end station latitude\",\"end station longitude\",\r\n",
        "                     \"birth year\",\"station_distance\"])\\\r\n",
        "         .setOutputCol (\"vectorized_features\")\r\n",
        "\r\n",
        "scaler = StandardScaler()\\\r\n",
        "         .setInputCol (\"vectorized_features\")\\\r\n",
        "         .setOutputCol (\"features\")\r\n",
        "         \r\n",
        "label_indexer = StringIndexer()\\\r\n",
        "         .setInputCol (\"gender\")\\\r\n",
        "         .setOutputCol (\"label\")\r\n",
        "\r\n",
        "pipeline_stages=Pipeline()\\\r\n",
        "                .setStages([assembler,label_indexer,scaler])\r\n",
        "pipeline_model=pipeline_stages.fit(df)\r\n",
        "pipeline_df=pipeline_model.transform(df)"
      ],
      "execution_count": 48,
      "outputs": []
    },
    {
      "cell_type": "code",
      "metadata": {
        "colab": {
          "base_uri": "https://localhost:8080/",
          "height": 0
        },
        "id": "G5bqK5EtVn-P",
        "outputId": "71409daa-8cc3-4ae9-c4b0-2fcf9f25e11b"
      },
      "source": [
        "pipeline_df.show()"
      ],
      "execution_count": 49,
      "outputs": [
        {
          "output_type": "stream",
          "text": [
            "+------------+-------------------+-------------------+----------------+--------------------+----------------------+-----------------------+--------------+--------------------+--------------------+---------------------+------+----------+----------+------+-------------------+--------------------+-----+--------------------+\n",
            "|tripduration|          starttime|           stoptime|start station id|  start station name|start station latitude|start station longitude|end station id|    end station name|end station latitude|end station longitude|bikeid|  usertype|birth year|gender|   station_distance| vectorized_features|label|            features|\n",
            "+------------+-------------------+-------------------+----------------+--------------------+----------------------+-----------------------+--------------+--------------------+--------------------+---------------------+------+----------+----------+------+-------------------+--------------------+-----+--------------------+\n",
            "|        1010|2013-09-01 00:00:02|2013-09-01 00:16:52|             254|     W 11 St & 6 Ave|           40.73532427|           -73.99800419|           147|Greenwich St & Wa...|         40.71542197|         -74.01121978| 15014|Subscriber|      1974|     1|  1.538594698389717|[1010.0,40.735324...|  0.0|[0.75321993463896...|\n",
            "|        1387|2013-09-01 00:00:16|2013-09-01 00:23:23|             352|     W 56 St & 6 Ave|           40.76340613|           -73.97722479|           405|Washington St & G...|           40.739323|           -74.008119| 16160|Subscriber|      1992|     1|  2.321594691495403|[1387.0,40.763406...|  0.0|[1.03437232608341...|\n",
            "|         405|2013-09-01 00:00:18|2013-09-01 00:07:03|             490|     8 Ave & W 33 St|             40.751551|             -73.993934|           459|    W 20 St & 11 Ave|           40.746745|           -74.007756| 14997|Subscriber|      1973|     1| 0.7975512551658146|[405.0,40.751551,...|  0.0|[0.30203373616710...|\n",
            "|         270|2013-09-01 00:00:20|2013-09-01 00:04:50|             236| St Marks Pl & 2 Ave|            40.7284186|           -73.98713956|           393|   E 5 St & Avenue C|         40.72299208|         -73.97995466| 19609|Subscriber|      1984|     1| 0.5314766235984392|[270.0,40.7284186...|  0.0|[0.20135582411140...|\n",
            "|         400|2013-09-01 00:00:35|2013-09-01 00:07:15|             490|     8 Ave & W 33 St|             40.751551|             -73.993934|           453|     W 22 St & 8 Ave|         40.74475148|         -73.99915362| 17523|Subscriber|      1978|     1| 0.5432892741748725|[400.0,40.751551,...|  0.0|[0.29830492460949...|\n",
            "|        1080|2013-09-01 00:00:48|2013-09-01 00:18:48|            2000|Front St & Washin...|           40.70255088|           -73.98940236|           418|  Front St & Gold St|            40.70224|           -73.982578| 18487|Subscriber|      1972|     2|0.35901329451804187|[1080.0,40.702550...|  1.0|[0.80542329644562...|\n",
            "|        2550|2013-09-01 00:00:49|2013-09-01 00:43:19|             533|  Broadway & W 39 St|           40.75299641|           -73.98721619|          2021|     W 45 St & 8 Ave|         40.75929124|         -73.98859651| 19342|Subscriber|      1949|     1|0.44035775144139416|[2550.0,40.752996...|  0.0|[1.90169389438550...|\n",
            "|        1108|2013-09-01 00:00:49|2013-09-01 00:19:17|             301|   E 2 St & Avenue B|           40.72217444|           -73.98368779|           306|Cliff St & Fulton St|         40.70823502|         -74.00530063| 15177|Subscriber|      1978|     1| 1.4875546047961465|[1108.0,40.722174...|  0.0|[0.82630464116829...|\n",
            "|         413|2013-09-01 00:01:01|2013-09-01 00:07:54|             421|Clermont Ave & Pa...|           40.69573398|           -73.97129668|           399|Lafayette Ave & S...|         40.68851534|          -73.9647628| 15809|Subscriber|      1987|     1| 0.6048720155036843|[413.0,40.6957339...|  0.0|[0.30799983465929...|\n",
            "|        1099|2013-09-01 00:01:06|2013-09-01 00:19:25|             249|Harrison St & Hud...|           40.71870987|            -74.0090009|           489|    10 Ave & W 28 St|         40.75066386|         -74.00176802| 14588|Subscriber|      1979|     1|  2.237350318488933|[1099.0,40.718709...|  0.0|[0.81959278036457...|\n",
            "|        1626|2013-09-01 00:01:11|2013-09-01 00:28:17|            2002|Wythe Ave & Metro...|             40.716887|             -73.963198|           401|Allen St & Riving...|         40.72019576|         -73.98997825| 19490|Subscriber|      1968|     1| 1.4244049093061235|[1626.0,40.716887...|  0.0|[1.21260951853758...|\n",
            "|        1562|2013-09-01 00:01:12|2013-09-01 00:27:14|             415|Pearl St & Hanove...|            40.7047177|           -74.00926027|           501| FDR Drive & E 35 St|           40.744219|         -73.97121214| 14886|Subscriber|      1992|     1| 3.3791865783758834|[1562.0,40.704717...|  0.0|[1.16488073060006...|\n",
            "|         954|2013-09-01 00:01:14|2013-09-01 00:17:08|             466|     W 25 St & 6 Ave|           40.74395411|           -73.99144871|           339|  Avenue D & E 12 St|         40.72580614|         -73.97422494| 18040|Subscriber|      1977|     1| 1.5444862422836323|[954.0,40.7439541...|  0.0|[0.71145724519363...|\n",
            "|         255|2013-09-01 00:01:15|2013-09-01 00:05:30|             494|     W 26 St & 8 Ave|           40.74734825|           -73.99723551|           509|     9 Ave & W 22 St|          40.7454973|         -74.00197139| 15025|Subscriber|      1982|     2|0.27943130288077905|[255.0,40.7473482...|  1.0|[0.19016938943855...|\n",
            "|         796|2013-09-01 00:01:22|2013-09-01 00:14:38|             494|     W 26 St & 8 Ave|           40.74734825|           -73.99723551|           127|Barrow St & Hudso...|         40.73172428|         -74.00674436| 16567|Subscriber|      1968|     2| 1.1880044136704921|[796.0,40.7473482...|  1.0|[0.59362679997288...|\n",
            "|         163|2013-09-01 00:01:29|2013-09-01 00:04:12|             384|Fulton St & Waver...|           40.68317813|            -73.9659641|           365|Fulton St & Grand...|         40.68223166|          -73.9614583| 15106|Subscriber|      1982|     1| 0.2455304602013845|[163.0,40.6831781...|  0.0|[0.12155925677836...|\n",
            "|        1233|2013-09-01 00:01:32|2013-09-01 00:22:05|             457|  Broadway & W 58 St|           40.76695317|           -73.98169333|           254|     W 11 St & 6 Ave|         40.73532427|         -73.99800419| 17024|Subscriber|      1976|     1| 2.3443151028157443|[1233.0,40.766953...|  0.0|[0.91952493010875...|\n",
            "|         784|2013-09-01 00:02:09|2013-09-01 00:15:13|             334|     W 20 St & 7 Ave|           40.74238787|           -73.99726235|           439|      E 4 St & 2 Ave|          40.7262807|         -73.98978041| 19376|Subscriber|      1960|     1| 1.1787764852217613|[784.0,40.7423878...|  0.0|[0.58467765223460...|\n",
            "|         403|2013-09-01 00:02:31|2013-09-01 00:09:14|             382|University Pl & E...|           40.73492695|           -73.99200509|           161|LaGuardia Pl & W ...|         40.72917025|         -73.99810231| 17649|Subscriber|      1992|     2|  0.510115483373122|[403.0,40.7349269...|  1.0|[0.30054221154406...|\n",
            "|         683|2013-09-01 00:02:51|2013-09-01 00:14:14|             367|E 53 St & Lexingt...|           40.75828065|           -73.97069431|           507|     E 25 St & 2 Ave|         40.73912601|         -73.97973776| 17366|Subscriber|      1979|     1| 1.4043395289508211|[683.0,40.7582806...|  0.0|[0.50935565877070...|\n",
            "+------------+-------------------+-------------------+----------------+--------------------+----------------------+-----------------------+--------------+--------------------+--------------------+---------------------+------+----------+----------+------+-------------------+--------------------+-----+--------------------+\n",
            "only showing top 20 rows\n",
            "\n"
          ],
          "name": "stdout"
        }
      ]
    },
    {
      "cell_type": "markdown",
      "metadata": {
        "id": "yJNhixKMWjN_"
      },
      "source": [
        "## <font color=blue> Split 80% of the data off for training and run the th model below \n",
        "    \n",
        "    lr = LogisticRegression(featuresCol = 'features', labelCol = 'label', maxIter=5)\n",
        "    \n",
        "<font size=4> Produce a table with only 'label','prediction', 'probability"
      ]
    },
    {
      "cell_type": "code",
      "metadata": {
        "ExecuteTime": {
          "end_time": "2021-02-23T21:53:29.355161Z",
          "start_time": "2021-02-23T21:53:29.318156Z"
        },
        "id": "N27vnccNWjN_",
        "colab": {
          "base_uri": "https://localhost:8080/",
          "height": 0
        },
        "outputId": "3ae3acb8-ee77-4ee2-d48a-b1976a6b542e"
      },
      "source": [
        "train, test = pipeline_df.randomSplit([0.8, 0.2], seed = 2018)\r\n",
        "print(\"Training Dataset Count: \" + str(train.count()))\r\n",
        "print(\"Test Dataset Count: \" + str(test.count()))"
      ],
      "execution_count": 50,
      "outputs": [
        {
          "output_type": "stream",
          "text": [
            "Training Dataset Count: 711154\n",
            "Test Dataset Count: 177976\n"
          ],
          "name": "stdout"
        }
      ]
    },
    {
      "cell_type": "code",
      "metadata": {
        "ExecuteTime": {
          "end_time": "2021-02-23T21:55:33.204660Z",
          "start_time": "2021-02-23T21:53:29.364158Z"
        },
        "id": "p9NhJhelWjN_",
        "colab": {
          "base_uri": "https://localhost:8080/",
          "height": 194
        },
        "outputId": "1c45f902-72e1-4378-d114-a25a620c4d52"
      },
      "source": [
        "from pyspark.ml.classification import LogisticRegression\r\n",
        "lr = LogisticRegression(featuresCol = 'features', labelCol = 'label', maxIter=5)\r\n",
        "lrModel = lr.fit(train)\r\n",
        "predictions = lrModel.transform(test)\r\n",
        "predictions.select('label','prediction','probability').toPandas().head(5)"
      ],
      "execution_count": 53,
      "outputs": [
        {
          "output_type": "execute_result",
          "data": {
            "text/html": [
              "<div>\n",
              "<style scoped>\n",
              "    .dataframe tbody tr th:only-of-type {\n",
              "        vertical-align: middle;\n",
              "    }\n",
              "\n",
              "    .dataframe tbody tr th {\n",
              "        vertical-align: top;\n",
              "    }\n",
              "\n",
              "    .dataframe thead th {\n",
              "        text-align: right;\n",
              "    }\n",
              "</style>\n",
              "<table border=\"1\" class=\"dataframe\">\n",
              "  <thead>\n",
              "    <tr style=\"text-align: right;\">\n",
              "      <th></th>\n",
              "      <th>label</th>\n",
              "      <th>prediction</th>\n",
              "      <th>probability</th>\n",
              "    </tr>\n",
              "  </thead>\n",
              "  <tbody>\n",
              "    <tr>\n",
              "      <th>0</th>\n",
              "      <td>0.0</td>\n",
              "      <td>0.0</td>\n",
              "      <td>[0.7516994588431922, 0.24830054115680777]</td>\n",
              "    </tr>\n",
              "    <tr>\n",
              "      <th>1</th>\n",
              "      <td>0.0</td>\n",
              "      <td>0.0</td>\n",
              "      <td>[0.7517917524195405, 0.24820824758045945]</td>\n",
              "    </tr>\n",
              "    <tr>\n",
              "      <th>2</th>\n",
              "      <td>0.0</td>\n",
              "      <td>0.0</td>\n",
              "      <td>[0.7518219945416721, 0.2481780054583279]</td>\n",
              "    </tr>\n",
              "    <tr>\n",
              "      <th>3</th>\n",
              "      <td>0.0</td>\n",
              "      <td>0.0</td>\n",
              "      <td>[0.7517667750313829, 0.2482332249686171]</td>\n",
              "    </tr>\n",
              "    <tr>\n",
              "      <th>4</th>\n",
              "      <td>1.0</td>\n",
              "      <td>0.0</td>\n",
              "      <td>[0.7518411720086915, 0.2481588279913085]</td>\n",
              "    </tr>\n",
              "  </tbody>\n",
              "</table>\n",
              "</div>"
            ],
            "text/plain": [
              "   label  prediction                                probability\n",
              "0    0.0         0.0  [0.7516994588431922, 0.24830054115680777]\n",
              "1    0.0         0.0  [0.7517917524195405, 0.24820824758045945]\n",
              "2    0.0         0.0   [0.7518219945416721, 0.2481780054583279]\n",
              "3    0.0         0.0   [0.7517667750313829, 0.2482332249686171]\n",
              "4    1.0         0.0   [0.7518411720086915, 0.2481588279913085]"
            ]
          },
          "metadata": {
            "tags": []
          },
          "execution_count": 53
        }
      ]
    },
    {
      "cell_type": "markdown",
      "metadata": {
        "id": "1y1V6OqFWjN_"
      },
      "source": [
        "## <font color=blue> Find the accuracy of the model on the test set, the numbers of males in the test set and how many predictions it got correct."
      ]
    },
    {
      "cell_type": "code",
      "metadata": {
        "ExecuteTime": {
          "end_time": "2021-02-23T22:03:38.310025Z",
          "start_time": "2021-02-23T22:00:46.816830Z"
        },
        "id": "fw60xuKAWjN_",
        "colab": {
          "base_uri": "https://localhost:8080/",
          "height": 0
        },
        "outputId": "7fce2b56-a05e-4c7c-eb14-29ed1563545f"
      },
      "source": [
        "accuracy = predictions.filter(predictions.label == predictions.prediction).count()/float(predictions.count())\r\n",
        "print(accuracy)"
      ],
      "execution_count": 55,
      "outputs": [
        {
          "output_type": "stream",
          "text": [
            "0.7539387333123567\n"
          ],
          "name": "stdout"
        }
      ]
    },
    {
      "cell_type": "code",
      "metadata": {
        "colab": {
          "base_uri": "https://localhost:8080/",
          "height": 0
        },
        "id": "UYOEQiSAWMXH",
        "outputId": "ce120837-4f0b-4166-906c-53a20d3479c2"
      },
      "source": [
        "predictions.groupby('label').count().show()"
      ],
      "execution_count": 56,
      "outputs": [
        {
          "output_type": "stream",
          "text": [
            "+-----+------+\n",
            "|label| count|\n",
            "+-----+------+\n",
            "|  0.0|134183|\n",
            "|  1.0| 43793|\n",
            "+-----+------+\n",
            "\n"
          ],
          "name": "stdout"
        }
      ]
    },
    {
      "cell_type": "markdown",
      "metadata": {
        "ExecuteTime": {
          "end_time": "2021-02-23T20:16:04.021604Z",
          "start_time": "2021-02-23T20:14:30.544994Z"
        },
        "id": "V_97vt6pWjOA"
      },
      "source": [
        "<font size=6 color=burntorange> __Conclusions__\n",
        "\n",
        "## <font color=blue>Use the results from the cells above to say if you got a good model.  My accuracy was around 75%.  That is almost as good ad the model from the  Pyspark Classification Note Book  we went over in class."
      ]
    },
    {
      "cell_type": "markdown",
      "metadata": {
        "ExecuteTime": {
          "end_time": "2021-02-23T20:19:09.080016Z",
          "start_time": "2021-02-23T20:16:04.024602Z"
        },
        "id": "S7rurM00WjOA"
      },
      "source": [
        "<font color=brown size=4> __Answer: The model accuracy isn't all that great but the worst part about the model is the significant difference between the genders for the predictions.__"
      ]
    }
  ]
}